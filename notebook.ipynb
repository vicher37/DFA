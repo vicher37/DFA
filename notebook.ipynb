{
 "cells": [
  {
   "cell_type": "code",
   "execution_count": 2,
   "metadata": {
    "collapsed": false
   },
   "outputs": [
    {
     "name": "stdout",
     "output_type": "stream",
     "text": [
      "['orology' 'totalize' 'solarized' 'sirenized' 'resinized' 'pectizing'\n",
      " 'jasperize' 'hyalinize' 'suberized' 'granitize' 'ergotized' 'aphetizes'\n",
      " 'hepatizes' 'bushelers' 'cretinize' 'bimetalist' 'biocenosis' 'seborrheas'\n",
      " 'catharizes' 'paralogize' 'palletized' \"myxedema's\" 'molochized'\n",
      " 'melanizing' 'ebionizing' 'herborized' 'hemostasia' 'fetichizes'\n",
      " 'ethicizing' 'ideologized' 'definitized' 'delocalizes' 'derecognize'\n",
      " 'deemphasize' 'dramatizable' 'hibernicized' 'deracializes' 'encarnalized'\n",
      " 'medicalizing']\n"
     ]
    }
   ],
   "source": [
    "__author__ = 'vickyzhang'\n",
    "\n",
    "from pandas import read_csv\n",
    "def process():\n",
    "    \"\"\"\n",
    "        The main process. It reads in a txt file, assigns values to each word, and sorts it according to the value.\n",
    "    \"\"\"\n",
    "    words = read_csv('american-words.80', header=None)\n",
    "    def get_value(word):\n",
    "        \"\"\"\n",
    "            A sub-process run on each word. It gets the value of each letter, and add up the values for the whole word.\n",
    "        \"\"\"\n",
    "        letters = 'abcdefghijklmnopqrstuvwxyz'\n",
    "        sum = 0\n",
    "        for letter in word:\n",
    "            letter_value = letters.find(letter)\n",
    "            if letter_value == -1:\n",
    "                letter_value = 0\n",
    "            sum += letter_value\n",
    "        return sum\n",
    "    words['values'] = words[0].apply(get_value)\n",
    "    # get those words whose values are 100\n",
    "    words = words[words['values'] == 100]\n",
    "    # get the length of these words and sort ascending\n",
    "    words['length'] = words[0].apply(len)\n",
    "    words = words.sort(columns='length')\n",
    "    return words[0].values\n",
    "\n",
    "if __name__ == '__main__':\n",
    "    print(process())"
   ]
  },
  {
   "cell_type": "code",
   "execution_count": null,
   "metadata": {
    "collapsed": true
   },
   "outputs": [],
   "source": []
  }
 ],
 "metadata": {
  "kernelspec": {
   "display_name": "Python 3",
   "language": "python",
   "name": "python3"
  },
  "language_info": {
   "codemirror_mode": {
    "name": "ipython",
    "version": 3
   },
   "file_extension": ".py",
   "mimetype": "text/x-python",
   "name": "python",
   "nbconvert_exporter": "python",
   "pygments_lexer": "ipython3",
   "version": "3.4.3"
  }
 },
 "nbformat": 4,
 "nbformat_minor": 0
}
